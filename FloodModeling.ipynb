{
  "nbformat": 4,
  "nbformat_minor": 0,
  "metadata": {
    "colab": {
      "provenance": [],
      "mount_file_id": "1jVIVgoxVa67rPMpV0BPSyrOBGsmWEYcr",
      "authorship_tag": "ABX9TyPU9TdBB3daBaCtHafEWeyf",
      "include_colab_link": true
    },
    "kernelspec": {
      "name": "python3",
      "display_name": "Python 3"
    },
    "language_info": {
      "name": "python"
    }
  },
  "cells": [
    {
      "cell_type": "markdown",
      "metadata": {
        "id": "view-in-github",
        "colab_type": "text"
      },
      "source": [
        "<a href=\"https://colab.research.google.com/github/tcmarino8/Flood-Modeling/blob/main/FloodModeling.ipynb\" target=\"_parent\"><img src=\"https://colab.research.google.com/assets/colab-badge.svg\" alt=\"Open In Colab\"/></a>"
      ]
    },
    {
      "cell_type": "markdown",
      "source": [
        "First we will figure out importing and early analysis of the data. We will be using the National River Flow Archive data that is avalible online. Downloaded it comes in the form of an xcel spreadhseet. I will likely use pandas to first make it into a nice dataframe that is visible for me to use. This seems to be the dataset that many people that develope these ML algorithms use.\n",
        "\n",
        "#TimeToBegin"
      ],
      "metadata": {
        "id": "NQCyzO2qtFl0"
      }
    },
    {
      "cell_type": "code",
      "source": [
        "#Will have to import all my files through drive since I am not sure how to do it off the hard drive\n",
        "from google.colab import drive\n",
        "drive.mount('/content/drive')"
      ],
      "metadata": {
        "colab": {
          "base_uri": "https://localhost:8080/"
        },
        "id": "uaSeBwuPwDaQ",
        "outputId": "69ff20d2-2fbf-48d9-e0f5-aec6b094ae0e"
      },
      "execution_count": 1,
      "outputs": [
        {
          "output_type": "stream",
          "name": "stdout",
          "text": [
            "Drive already mounted at /content/drive; to attempt to forcibly remount, call drive.mount(\"/content/drive\", force_remount=True).\n"
          ]
        }
      ]
    },
    {
      "cell_type": "code",
      "source": [
        "import pandas as pd\n",
        "import numpy as np\n",
        "import matplotlib.pyplot as plt\n",
        "import os\n",
        "import folium\n",
        "from sklearn.model_selection import train_test_split\n",
        "from sklearn.model_selection import KFold\n",
        "from sklearn import linear_model as lr\n",
        "from sklearn.cluster import DBSCAN\n",
        "from sklearn.cluster import KMeans"
      ],
      "metadata": {
        "id": "o66TSge5tkvi"
      },
      "execution_count": 2,
      "outputs": []
    },
    {
      "cell_type": "code",
      "source": [
        "RiverFlowDataSet = pd.read_csv('/content/drive/My Drive/Job Hunt/Summer Research/nrfa-station-metadata-2023-01-09.csv')"
      ],
      "metadata": {
        "id": "jOvr75eWk25J"
      },
      "execution_count": 3,
      "outputs": []
    },
    {
      "cell_type": "markdown",
      "source": [
        "Now the data has been imported, lets see the first 10 rows"
      ],
      "metadata": {
        "id": "uHKp2VFY1Gec"
      }
    },
    {
      "cell_type": "code",
      "source": [
        "RiverFlowDataSet.head(10)"
      ],
      "metadata": {
        "colab": {
          "base_uri": "https://localhost:8080/",
          "height": 541
        },
        "id": "AsOnzT4VjIDt",
        "outputId": "e37e4f1f-77b4-40f8-a84e-658d3fb64151"
      },
      "execution_count": 4,
      "outputs": [
        {
          "output_type": "execute_result",
          "data": {
            "text/plain": [
              "     id                      name  catchment-area   easting  northing  \\\n",
              "0  1001           Wick at Tarroul          161.90  326202.0  954915.0   \n",
              "1  2001    Helmsdale at Kilphedir          551.40  299839.0  918163.0   \n",
              "2  2002      Brora at Bruachrobie          434.40  289156.0  903916.0   \n",
              "3  3001             Shin at Lairg          494.60  258100.0  906200.0   \n",
              "4  3002      Carron at Sgodachail          241.10  249136.0  892152.0   \n",
              "5  3003   Oykel at Easter Turnaig          330.70  240305.0  900145.0   \n",
              "6  3004       Cassley at Rosehall          187.50  247176.0  902133.0   \n",
              "7  3005           Shin at Inveran          575.00  257412.0  897418.0   \n",
              "8  3006  Loch Ailsh at Loch Ailsh           44.34  231577.0  910138.0   \n",
              "9  4001       Conon at Moy Bridge          961.80  248129.0  854675.0   \n",
              "\n",
              "   latitude  longitude       river        location  station-level  ...  \\\n",
              "0  58.47620   -3.26706        Wick         Tarroul           13.0  ...   \n",
              "1  58.14100   -3.70295   Helmsdale       Kilphedir           17.0  ...   \n",
              "2  58.01056   -3.87757       Brora     Bruachrobie            9.0  ...   \n",
              "3  58.02222   -4.40405        Shin           Lairg           81.7  ...   \n",
              "4  57.89321   -4.54668      Carron      Sgodachail           70.7  ...   \n",
              "5  57.96185   -4.70086       Oykel  Easter Turnaig           15.6  ...   \n",
              "6  57.98210   -4.58615     Cassley        Rosehall            3.3  ...   \n",
              "7  57.94319   -4.41038        Shin         Inveran            4.3  ...   \n",
              "8  58.04828   -4.85531  Loch Ailsh      Loch Ailsh          154.3  ...   \n",
              "9  57.55658   -4.53997       Conon      Moy Bridge           10.0  ...   \n",
              "\n",
              "  mean-flood-plain-depth mean-flood-plain-location  mean-flood-plain-extent  \\\n",
              "0                  0.763                     0.928                   0.0922   \n",
              "1                  0.671                     1.069                   0.0555   \n",
              "2                  0.705                     1.024                   0.0553   \n",
              "3                  0.742                     0.893                   0.0621   \n",
              "4                  0.633                     0.863                   0.0377   \n",
              "5                  0.750                     0.920                   0.0488   \n",
              "6                  0.954                     0.962                   0.0557   \n",
              "7                  0.750                     0.941                   0.0605   \n",
              "8                  0.731                     0.781                   0.0505   \n",
              "9                  0.885                     0.868                   0.0470   \n",
              "\n",
              "  urbext-1990 urbconc-1990 urbloc-1990  urbext-2000  urbconc-2000  \\\n",
              "0      0.0004          NaN         NaN       0.0012           NaN   \n",
              "1      0.0000          NaN         NaN       0.0000           NaN   \n",
              "2      0.0000          NaN         NaN       0.0002           NaN   \n",
              "3      0.0000          NaN         NaN       0.0000           NaN   \n",
              "4      0.0000          NaN         NaN       0.0000           NaN   \n",
              "5      0.0000          NaN         NaN       0.0000           NaN   \n",
              "6      0.0000          NaN         NaN       0.0000           NaN   \n",
              "7      0.0002          NaN         NaN       0.0002           NaN   \n",
              "8      0.0003          NaN         NaN       0.0000           NaN   \n",
              "9      0.0002          NaN         NaN       0.0001           NaN   \n",
              "\n",
              "   urbloc-2000                                       data-summary  \n",
              "0          NaN                              gdf;gmf;cmr;cdr;cdr-d  \n",
              "1          NaN  gdf;gmf;cmr;cdr;cdr-d;pot-stage;pot-flow;gaugi...  \n",
              "2          NaN  gdf;gmf;cmr;cdr;cdr-d;pot-stage;pot-flow;gaugi...  \n",
              "3          NaN                              gdf;gmf;cmr;cdr;cdr-d  \n",
              "4          NaN  gdf;gmf;cmr;cdr;cdr-d;pot-stage;pot-flow;gaugi...  \n",
              "5          NaN  gdf;gmf;cmr;cdr;cdr-d;pot-stage;pot-flow;gaugi...  \n",
              "6          NaN                              gdf;gmf;cmr;cdr;cdr-d  \n",
              "7          NaN                              gdf;gmf;cmr;cdr;cdr-d  \n",
              "8          NaN                              gdf;gmf;cmr;cdr;cdr-d  \n",
              "9          NaN                              gdf;gmf;cmr;cdr;cdr-d  \n",
              "\n",
              "[10 rows x 103 columns]"
            ],
            "text/html": [
              "\n",
              "  <div id=\"df-e70cfa80-d28d-403c-92ab-bf13cbaea8a5\">\n",
              "    <div class=\"colab-df-container\">\n",
              "      <div>\n",
              "<style scoped>\n",
              "    .dataframe tbody tr th:only-of-type {\n",
              "        vertical-align: middle;\n",
              "    }\n",
              "\n",
              "    .dataframe tbody tr th {\n",
              "        vertical-align: top;\n",
              "    }\n",
              "\n",
              "    .dataframe thead th {\n",
              "        text-align: right;\n",
              "    }\n",
              "</style>\n",
              "<table border=\"1\" class=\"dataframe\">\n",
              "  <thead>\n",
              "    <tr style=\"text-align: right;\">\n",
              "      <th></th>\n",
              "      <th>id</th>\n",
              "      <th>name</th>\n",
              "      <th>catchment-area</th>\n",
              "      <th>easting</th>\n",
              "      <th>northing</th>\n",
              "      <th>latitude</th>\n",
              "      <th>longitude</th>\n",
              "      <th>river</th>\n",
              "      <th>location</th>\n",
              "      <th>station-level</th>\n",
              "      <th>...</th>\n",
              "      <th>mean-flood-plain-depth</th>\n",
              "      <th>mean-flood-plain-location</th>\n",
              "      <th>mean-flood-plain-extent</th>\n",
              "      <th>urbext-1990</th>\n",
              "      <th>urbconc-1990</th>\n",
              "      <th>urbloc-1990</th>\n",
              "      <th>urbext-2000</th>\n",
              "      <th>urbconc-2000</th>\n",
              "      <th>urbloc-2000</th>\n",
              "      <th>data-summary</th>\n",
              "    </tr>\n",
              "  </thead>\n",
              "  <tbody>\n",
              "    <tr>\n",
              "      <th>0</th>\n",
              "      <td>1001</td>\n",
              "      <td>Wick at Tarroul</td>\n",
              "      <td>161.90</td>\n",
              "      <td>326202.0</td>\n",
              "      <td>954915.0</td>\n",
              "      <td>58.47620</td>\n",
              "      <td>-3.26706</td>\n",
              "      <td>Wick</td>\n",
              "      <td>Tarroul</td>\n",
              "      <td>13.0</td>\n",
              "      <td>...</td>\n",
              "      <td>0.763</td>\n",
              "      <td>0.928</td>\n",
              "      <td>0.0922</td>\n",
              "      <td>0.0004</td>\n",
              "      <td>NaN</td>\n",
              "      <td>NaN</td>\n",
              "      <td>0.0012</td>\n",
              "      <td>NaN</td>\n",
              "      <td>NaN</td>\n",
              "      <td>gdf;gmf;cmr;cdr;cdr-d</td>\n",
              "    </tr>\n",
              "    <tr>\n",
              "      <th>1</th>\n",
              "      <td>2001</td>\n",
              "      <td>Helmsdale at Kilphedir</td>\n",
              "      <td>551.40</td>\n",
              "      <td>299839.0</td>\n",
              "      <td>918163.0</td>\n",
              "      <td>58.14100</td>\n",
              "      <td>-3.70295</td>\n",
              "      <td>Helmsdale</td>\n",
              "      <td>Kilphedir</td>\n",
              "      <td>17.0</td>\n",
              "      <td>...</td>\n",
              "      <td>0.671</td>\n",
              "      <td>1.069</td>\n",
              "      <td>0.0555</td>\n",
              "      <td>0.0000</td>\n",
              "      <td>NaN</td>\n",
              "      <td>NaN</td>\n",
              "      <td>0.0000</td>\n",
              "      <td>NaN</td>\n",
              "      <td>NaN</td>\n",
              "      <td>gdf;gmf;cmr;cdr;cdr-d;pot-stage;pot-flow;gaugi...</td>\n",
              "    </tr>\n",
              "    <tr>\n",
              "      <th>2</th>\n",
              "      <td>2002</td>\n",
              "      <td>Brora at Bruachrobie</td>\n",
              "      <td>434.40</td>\n",
              "      <td>289156.0</td>\n",
              "      <td>903916.0</td>\n",
              "      <td>58.01056</td>\n",
              "      <td>-3.87757</td>\n",
              "      <td>Brora</td>\n",
              "      <td>Bruachrobie</td>\n",
              "      <td>9.0</td>\n",
              "      <td>...</td>\n",
              "      <td>0.705</td>\n",
              "      <td>1.024</td>\n",
              "      <td>0.0553</td>\n",
              "      <td>0.0000</td>\n",
              "      <td>NaN</td>\n",
              "      <td>NaN</td>\n",
              "      <td>0.0002</td>\n",
              "      <td>NaN</td>\n",
              "      <td>NaN</td>\n",
              "      <td>gdf;gmf;cmr;cdr;cdr-d;pot-stage;pot-flow;gaugi...</td>\n",
              "    </tr>\n",
              "    <tr>\n",
              "      <th>3</th>\n",
              "      <td>3001</td>\n",
              "      <td>Shin at Lairg</td>\n",
              "      <td>494.60</td>\n",
              "      <td>258100.0</td>\n",
              "      <td>906200.0</td>\n",
              "      <td>58.02222</td>\n",
              "      <td>-4.40405</td>\n",
              "      <td>Shin</td>\n",
              "      <td>Lairg</td>\n",
              "      <td>81.7</td>\n",
              "      <td>...</td>\n",
              "      <td>0.742</td>\n",
              "      <td>0.893</td>\n",
              "      <td>0.0621</td>\n",
              "      <td>0.0000</td>\n",
              "      <td>NaN</td>\n",
              "      <td>NaN</td>\n",
              "      <td>0.0000</td>\n",
              "      <td>NaN</td>\n",
              "      <td>NaN</td>\n",
              "      <td>gdf;gmf;cmr;cdr;cdr-d</td>\n",
              "    </tr>\n",
              "    <tr>\n",
              "      <th>4</th>\n",
              "      <td>3002</td>\n",
              "      <td>Carron at Sgodachail</td>\n",
              "      <td>241.10</td>\n",
              "      <td>249136.0</td>\n",
              "      <td>892152.0</td>\n",
              "      <td>57.89321</td>\n",
              "      <td>-4.54668</td>\n",
              "      <td>Carron</td>\n",
              "      <td>Sgodachail</td>\n",
              "      <td>70.7</td>\n",
              "      <td>...</td>\n",
              "      <td>0.633</td>\n",
              "      <td>0.863</td>\n",
              "      <td>0.0377</td>\n",
              "      <td>0.0000</td>\n",
              "      <td>NaN</td>\n",
              "      <td>NaN</td>\n",
              "      <td>0.0000</td>\n",
              "      <td>NaN</td>\n",
              "      <td>NaN</td>\n",
              "      <td>gdf;gmf;cmr;cdr;cdr-d;pot-stage;pot-flow;gaugi...</td>\n",
              "    </tr>\n",
              "    <tr>\n",
              "      <th>5</th>\n",
              "      <td>3003</td>\n",
              "      <td>Oykel at Easter Turnaig</td>\n",
              "      <td>330.70</td>\n",
              "      <td>240305.0</td>\n",
              "      <td>900145.0</td>\n",
              "      <td>57.96185</td>\n",
              "      <td>-4.70086</td>\n",
              "      <td>Oykel</td>\n",
              "      <td>Easter Turnaig</td>\n",
              "      <td>15.6</td>\n",
              "      <td>...</td>\n",
              "      <td>0.750</td>\n",
              "      <td>0.920</td>\n",
              "      <td>0.0488</td>\n",
              "      <td>0.0000</td>\n",
              "      <td>NaN</td>\n",
              "      <td>NaN</td>\n",
              "      <td>0.0000</td>\n",
              "      <td>NaN</td>\n",
              "      <td>NaN</td>\n",
              "      <td>gdf;gmf;cmr;cdr;cdr-d;pot-stage;pot-flow;gaugi...</td>\n",
              "    </tr>\n",
              "    <tr>\n",
              "      <th>6</th>\n",
              "      <td>3004</td>\n",
              "      <td>Cassley at Rosehall</td>\n",
              "      <td>187.50</td>\n",
              "      <td>247176.0</td>\n",
              "      <td>902133.0</td>\n",
              "      <td>57.98210</td>\n",
              "      <td>-4.58615</td>\n",
              "      <td>Cassley</td>\n",
              "      <td>Rosehall</td>\n",
              "      <td>3.3</td>\n",
              "      <td>...</td>\n",
              "      <td>0.954</td>\n",
              "      <td>0.962</td>\n",
              "      <td>0.0557</td>\n",
              "      <td>0.0000</td>\n",
              "      <td>NaN</td>\n",
              "      <td>NaN</td>\n",
              "      <td>0.0000</td>\n",
              "      <td>NaN</td>\n",
              "      <td>NaN</td>\n",
              "      <td>gdf;gmf;cmr;cdr;cdr-d</td>\n",
              "    </tr>\n",
              "    <tr>\n",
              "      <th>7</th>\n",
              "      <td>3005</td>\n",
              "      <td>Shin at Inveran</td>\n",
              "      <td>575.00</td>\n",
              "      <td>257412.0</td>\n",
              "      <td>897418.0</td>\n",
              "      <td>57.94319</td>\n",
              "      <td>-4.41038</td>\n",
              "      <td>Shin</td>\n",
              "      <td>Inveran</td>\n",
              "      <td>4.3</td>\n",
              "      <td>...</td>\n",
              "      <td>0.750</td>\n",
              "      <td>0.941</td>\n",
              "      <td>0.0605</td>\n",
              "      <td>0.0002</td>\n",
              "      <td>NaN</td>\n",
              "      <td>NaN</td>\n",
              "      <td>0.0002</td>\n",
              "      <td>NaN</td>\n",
              "      <td>NaN</td>\n",
              "      <td>gdf;gmf;cmr;cdr;cdr-d</td>\n",
              "    </tr>\n",
              "    <tr>\n",
              "      <th>8</th>\n",
              "      <td>3006</td>\n",
              "      <td>Loch Ailsh at Loch Ailsh</td>\n",
              "      <td>44.34</td>\n",
              "      <td>231577.0</td>\n",
              "      <td>910138.0</td>\n",
              "      <td>58.04828</td>\n",
              "      <td>-4.85531</td>\n",
              "      <td>Loch Ailsh</td>\n",
              "      <td>Loch Ailsh</td>\n",
              "      <td>154.3</td>\n",
              "      <td>...</td>\n",
              "      <td>0.731</td>\n",
              "      <td>0.781</td>\n",
              "      <td>0.0505</td>\n",
              "      <td>0.0003</td>\n",
              "      <td>NaN</td>\n",
              "      <td>NaN</td>\n",
              "      <td>0.0000</td>\n",
              "      <td>NaN</td>\n",
              "      <td>NaN</td>\n",
              "      <td>gdf;gmf;cmr;cdr;cdr-d</td>\n",
              "    </tr>\n",
              "    <tr>\n",
              "      <th>9</th>\n",
              "      <td>4001</td>\n",
              "      <td>Conon at Moy Bridge</td>\n",
              "      <td>961.80</td>\n",
              "      <td>248129.0</td>\n",
              "      <td>854675.0</td>\n",
              "      <td>57.55658</td>\n",
              "      <td>-4.53997</td>\n",
              "      <td>Conon</td>\n",
              "      <td>Moy Bridge</td>\n",
              "      <td>10.0</td>\n",
              "      <td>...</td>\n",
              "      <td>0.885</td>\n",
              "      <td>0.868</td>\n",
              "      <td>0.0470</td>\n",
              "      <td>0.0002</td>\n",
              "      <td>NaN</td>\n",
              "      <td>NaN</td>\n",
              "      <td>0.0001</td>\n",
              "      <td>NaN</td>\n",
              "      <td>NaN</td>\n",
              "      <td>gdf;gmf;cmr;cdr;cdr-d</td>\n",
              "    </tr>\n",
              "  </tbody>\n",
              "</table>\n",
              "<p>10 rows × 103 columns</p>\n",
              "</div>\n",
              "      <button class=\"colab-df-convert\" onclick=\"convertToInteractive('df-e70cfa80-d28d-403c-92ab-bf13cbaea8a5')\"\n",
              "              title=\"Convert this dataframe to an interactive table.\"\n",
              "              style=\"display:none;\">\n",
              "        \n",
              "  <svg xmlns=\"http://www.w3.org/2000/svg\" height=\"24px\"viewBox=\"0 0 24 24\"\n",
              "       width=\"24px\">\n",
              "    <path d=\"M0 0h24v24H0V0z\" fill=\"none\"/>\n",
              "    <path d=\"M18.56 5.44l.94 2.06.94-2.06 2.06-.94-2.06-.94-.94-2.06-.94 2.06-2.06.94zm-11 1L8.5 8.5l.94-2.06 2.06-.94-2.06-.94L8.5 2.5l-.94 2.06-2.06.94zm10 10l.94 2.06.94-2.06 2.06-.94-2.06-.94-.94-2.06-.94 2.06-2.06.94z\"/><path d=\"M17.41 7.96l-1.37-1.37c-.4-.4-.92-.59-1.43-.59-.52 0-1.04.2-1.43.59L10.3 9.45l-7.72 7.72c-.78.78-.78 2.05 0 2.83L4 21.41c.39.39.9.59 1.41.59.51 0 1.02-.2 1.41-.59l7.78-7.78 2.81-2.81c.8-.78.8-2.07 0-2.86zM5.41 20L4 18.59l7.72-7.72 1.47 1.35L5.41 20z\"/>\n",
              "  </svg>\n",
              "      </button>\n",
              "      \n",
              "  <style>\n",
              "    .colab-df-container {\n",
              "      display:flex;\n",
              "      flex-wrap:wrap;\n",
              "      gap: 12px;\n",
              "    }\n",
              "\n",
              "    .colab-df-convert {\n",
              "      background-color: #E8F0FE;\n",
              "      border: none;\n",
              "      border-radius: 50%;\n",
              "      cursor: pointer;\n",
              "      display: none;\n",
              "      fill: #1967D2;\n",
              "      height: 32px;\n",
              "      padding: 0 0 0 0;\n",
              "      width: 32px;\n",
              "    }\n",
              "\n",
              "    .colab-df-convert:hover {\n",
              "      background-color: #E2EBFA;\n",
              "      box-shadow: 0px 1px 2px rgba(60, 64, 67, 0.3), 0px 1px 3px 1px rgba(60, 64, 67, 0.15);\n",
              "      fill: #174EA6;\n",
              "    }\n",
              "\n",
              "    [theme=dark] .colab-df-convert {\n",
              "      background-color: #3B4455;\n",
              "      fill: #D2E3FC;\n",
              "    }\n",
              "\n",
              "    [theme=dark] .colab-df-convert:hover {\n",
              "      background-color: #434B5C;\n",
              "      box-shadow: 0px 1px 3px 1px rgba(0, 0, 0, 0.15);\n",
              "      filter: drop-shadow(0px 1px 2px rgba(0, 0, 0, 0.3));\n",
              "      fill: #FFFFFF;\n",
              "    }\n",
              "  </style>\n",
              "\n",
              "      <script>\n",
              "        const buttonEl =\n",
              "          document.querySelector('#df-e70cfa80-d28d-403c-92ab-bf13cbaea8a5 button.colab-df-convert');\n",
              "        buttonEl.style.display =\n",
              "          google.colab.kernel.accessAllowed ? 'block' : 'none';\n",
              "\n",
              "        async function convertToInteractive(key) {\n",
              "          const element = document.querySelector('#df-e70cfa80-d28d-403c-92ab-bf13cbaea8a5');\n",
              "          const dataTable =\n",
              "            await google.colab.kernel.invokeFunction('convertToInteractive',\n",
              "                                                     [key], {});\n",
              "          if (!dataTable) return;\n",
              "\n",
              "          const docLinkHtml = 'Like what you see? Visit the ' +\n",
              "            '<a target=\"_blank\" href=https://colab.research.google.com/notebooks/data_table.ipynb>data table notebook</a>'\n",
              "            + ' to learn more about interactive tables.';\n",
              "          element.innerHTML = '';\n",
              "          dataTable['output_type'] = 'display_data';\n",
              "          await google.colab.output.renderOutput(dataTable, element);\n",
              "          const docLink = document.createElement('div');\n",
              "          docLink.innerHTML = docLinkHtml;\n",
              "          element.appendChild(docLink);\n",
              "        }\n",
              "      </script>\n",
              "    </div>\n",
              "  </div>\n",
              "  "
            ]
          },
          "metadata": {},
          "execution_count": 4
        }
      ]
    },
    {
      "cell_type": "code",
      "source": [
        "print('\\033[4;43;43m Here is a list of all the column names: \\033[0;0m \\n\\n')\n",
        "for i in range(103):\n",
        "  print(RiverFlowDataSet.columns[i])"
      ],
      "metadata": {
        "colab": {
          "base_uri": "https://localhost:8080/"
        },
        "id": "0TewhWH4vhCo",
        "outputId": "841e4ec5-7b86-4a76-f913-3bd27332085e"
      },
      "execution_count": 103,
      "outputs": [
        {
          "output_type": "stream",
          "name": "stdout",
          "text": [
            "\u001b[4;43;43m Here is a list of all the column names: \u001b[0;0m \n",
            "\n",
            "\n",
            "id\n",
            "name\n",
            "catchment-area\n",
            "easting\n",
            "northing\n",
            "latitude\n",
            "longitude\n",
            "river\n",
            "location\n",
            "station-level\n",
            "measuring-authority-id\n",
            "measuring-authority-station-id\n",
            "hydrometric-area\n",
            "opened\n",
            "closed\n",
            "station-type\n",
            "bankfull-flow\n",
            "structurefull-flow\n",
            "sensitivity\n",
            "nrfa-mean-flow\n",
            "nrfa-peak-flow\n",
            "feh-pooling\n",
            "feh-qmed\n",
            "feh-neither\n",
            "nhmp\n",
            "benchmark\n",
            "live-data\n",
            "eflag\n",
            "historic-droughts\n",
            "marius\n",
            "outlook-analogues\n",
            "outlook-esp\n",
            "factors-affecting-runoff\n",
            "gdf-start-date\n",
            "gdf-end-date\n",
            "gdf-mean-flow\n",
            "gdf-min-flow\n",
            "gdf-first-date-of-min\n",
            "gdf-last-date-of-min\n",
            "gdf-max-flow\n",
            "gdf-first-date-of-max\n",
            "gdf-last-date-of-max\n",
            "gdf-q95-flow\n",
            "gdf-q70-flow\n",
            "gdf-q50-flow\n",
            "gdf-q10-flow\n",
            "gdf-q05-flow\n",
            "gdf-base-flow-index\n",
            "gdf-day-count\n",
            "gdf-flow-count\n",
            "gdf-percent-complete\n",
            "peak-flow-start-date\n",
            "peak-flow-end-date\n",
            "qmed\n",
            "minimum-altitude\n",
            "10-percentile-altitude\n",
            "50-percentile-altitude\n",
            "90-percentile-altitude\n",
            "maximum-altitude\n",
            "saar-1941-1970\n",
            "saar-1961-1990\n",
            "lcm2000-woodland\n",
            "lcm2000-arable-horticultural\n",
            "lcm2000-grassland\n",
            "lcm2000-mountain-heath-bog\n",
            "lcm2000-urban\n",
            "lcm2007-woodland\n",
            "lcm2007-arable-horticultural\n",
            "lcm2007-grassland\n",
            "lcm2007-mountain-heath-bog\n",
            "lcm2007-urban\n",
            "high-perm-bedrock\n",
            "moderate-perm-bedrock\n",
            "low-perm-bedrock\n",
            "mixed-perm-bedrock\n",
            "high-perm-superficial\n",
            "low-perm-superficial\n",
            "mixed-perm-superficial\n",
            "propwet\n",
            "bfihost\n",
            "farl\n",
            "dpsbar\n",
            "sprhost\n",
            "rmed-1d\n",
            "rmed-2d\n",
            "rmed-1h\n",
            "ldp\n",
            "dplbar\n",
            "altbar\n",
            "aspbar\n",
            "aspvar\n",
            "ihdtm-height\n",
            "ihdtm-catchment-area\n",
            "mean-flood-plain-depth\n",
            "mean-flood-plain-location\n",
            "mean-flood-plain-extent\n",
            "urbext-1990\n",
            "urbconc-1990\n",
            "urbloc-1990\n",
            "urbext-2000\n",
            "urbconc-2000\n",
            "urbloc-2000\n",
            "data-summary\n"
          ]
        }
      ]
    },
    {
      "cell_type": "code",
      "source": [
        "#let us check what each of the columns are/are they important?\n",
        "#print(RiverFlowDataSet['catchment-area'])      This is the area around the river where rainfall will flow into the river(km^2)\n",
        "#print(RiverFlowDataSet['station-level'])       I would assume that this is the level of water at the station that it is being measured at above Ordanance Datum(m)\n",
        "#print(RiverFlowDataSet['bankfull-flow'])        Flow of bankful, unsure what this means. However I notice a lot of NaN\n",
        "#print(RiverFlowDataSet['structurefull-flow'])    Appears to be all NaN\n",
        "#print(RiverFlowDataSet['sensitivity'])            Lots of values around 15 \n",
        "#gdf is gauged daily flows (mean river flow in cubic meters per second)  and there are a lot of statistics about them\n",
        "#nrfa-mean-flow, nrfa-peak-flow, feh-pooling, feh-qmed, feh-neither, nhmp, benchmark, live-data, eflag, historic-droughts, marius, outlook-analogues, outlook-esp.       (all categories of row entry (T/F))\n",
        "#print(RiverFlowDataSet['factors-affecting-runoff'])         lots of NaN and then some letters(R,H,E,N) \n",
        "#minimum-altitude, 10-percentile-altitude, 50-percentile-altitude, 90-percentile-altitude, maximum-altitude.          all under elevation, stats about catchment area\n",
        "#lcm2000-woodland, lcm2000-arable-horticultural, lcm2000-grassland, lcm2000-mountain-heath-bog, lcm2000-urban.         all about land cover map for a year, values less than 1\n",
        "#high-perm-bedrock, moderate-perm-bedrock, low-perm-bedrock, mixed-perm-bedrock, high-perm-superficial, low-perm-superficial, mixed-perm-superficial.        so it seems that these will give me a decimal for each row, but only for one of these columns\n",
        "#print(RiverFlowDataSet['urbext-2000'])             Something to do with urban extent maybe how much the flood went into urban land????\n",
        "#print(RiverFlowDataSet['qmed'])     Something to do with peak flow, lets see if we can figure it out.(median annual maximum flood)   INDEX OF FLOOD       associated with peak flow data.\n",
        "\n",
        "#plt.hist(RiverFlowDataSet['qmed'], bins = 200)\n",
        "#plt.hist(RiverFlowDataSet['sensitivity'], bins = 200)\n",
        "#plt.hist(RiverFlowDataSet['catchment-area'], bins = 200)\n",
        "#plt.scatter(RiverFlowDataSet['sensitivity'], RiverFlowDataSet['catchment-area'], .5)\n",
        "#plt.scatter(RiverFlowDataSet['qmed'], RiverFlowDataSet['catchment-area'], .5)\n",
        "print(RiverFlowDataSet['outlook-esp'])"
      ],
      "metadata": {
        "colab": {
          "base_uri": "https://localhost:8080/"
        },
        "id": "kFzqakj6PVUg",
        "outputId": "cc92711b-aca3-46d7-f0fb-9134de592f4b"
      },
      "execution_count": 104,
      "outputs": [
        {
          "output_type": "stream",
          "name": "stdout",
          "text": [
            "0       False\n",
            "1       False\n",
            "2       False\n",
            "3       False\n",
            "4       False\n",
            "        ...  \n",
            "1597    False\n",
            "1598    False\n",
            "1599    False\n",
            "1600    False\n",
            "1601    False\n",
            "Name: outlook-esp, Length: 1602, dtype: bool\n"
          ]
        }
      ]
    },
    {
      "cell_type": "code",
      "source": [
        "longg = RiverFlowDataSet['longitude']\n",
        "lat = RiverFlowDataSet['latitude']\n",
        "min_long = min(longg)\n",
        "max_long = max(longg)\n",
        "mean_longg = np.mean(longg)\n",
        "min_lat = min(lat)\n",
        "max_lat = max(lat)\n",
        "mean_lat = np.mean(lat)"
      ],
      "metadata": {
        "id": "CwBD6AvfsDeB"
      },
      "execution_count": 105,
      "outputs": []
    },
    {
      "cell_type": "markdown",
      "source": [
        "So now I will look at some of the statistics with respect to the data table as well as the latitude and longitude. I will use the lat and long to be able to plot the river floods on a map."
      ],
      "metadata": {
        "id": "gi7eHddYjI9_"
      }
    },
    {
      "cell_type": "code",
      "source": [
        "print('the size of the dataset is: ', np.shape(RiverFlowDataSet)) \n",
        "print('there are', np.size(RiverFlowDataSet.columns), 'columns') \n",
        "print('there are ', np.size(RiverFlowDataSet['river'].unique()), 'unique rivers') \n",
        "print('the max and min longitude are respectively:', (max_long, min_long)) \n",
        "print('the max and min latitude are respectively:', (max_lat, min_lat))"
      ],
      "metadata": {
        "colab": {
          "base_uri": "https://localhost:8080/"
        },
        "id": "PGTuJr_tuq6H",
        "outputId": "b7c5a80d-3057-4e30-c810-42a07b693f9f"
      },
      "execution_count": 106,
      "outputs": [
        {
          "output_type": "stream",
          "name": "stdout",
          "text": [
            "the size of the dataset is:  (1602, 103)\n",
            "there are 103 columns\n",
            "there are  995 unique rivers\n",
            "the max and min longitude are respectively: (1.53066, -7.68602)\n",
            "the max and min latitude are respectively: (60.25933, 50.05007)\n"
          ]
        }
      ]
    },
    {
      "cell_type": "markdown",
      "source": [
        "I will now import the folium package which is good for geospacial modeling, map forming, and other GIS related things. Then I will create a map that shows all the flood spots. It is interactive so you can zoom in on the map and click on each pin to see where and what river the flood was associated with."
      ],
      "metadata": {
        "id": "sVw3EUfaKUW5"
      }
    },
    {
      "cell_type": "code",
      "source": [
        "\n",
        "map = folium.Map(location=[mean_lat, mean_longg], zoom_start = 6, control_scale = True)\n",
        "for i in range(len(RiverFlowDataSet)):\n",
        "    folium.Marker([RiverFlowDataSet.loc[i, 'latitude'], RiverFlowDataSet.loc[i, 'longitude']], popup = RiverFlowDataSet.loc[i, 'name']).add_to(map)"
      ],
      "metadata": {
        "id": "EBqpzYtplTRB"
      },
      "execution_count": 107,
      "outputs": []
    },
    {
      "cell_type": "code",
      "source": [
        "#map"
      ],
      "metadata": {
        "id": "ebk5lm2rfMLt"
      },
      "execution_count": 108,
      "outputs": []
    },
    {
      "cell_type": "markdown",
      "source": [
        "We first need to identify how we are going to predict these floods/what it is we will be keeping track of and wanting to model. For this I will need to do some reading of the paper that led me to this data set. So after reading some of this paper linked here: https://link.springer.com/article/10.1007/s10666-020-09713-x they appear to use a multiple linear regression model. I will try to train and test a model in the same fassion. They use Catchment-area, standard average annual rainfall, indext of flood attenuation attributable to reservoirs and lakes, and based flow index. I dont think I will use this method, instead I will hope to train an artificial nueral net using Keras package to do so."
      ],
      "metadata": {
        "id": "jgGg50diNWLN"
      }
    },
    {
      "cell_type": "markdown",
      "source": [
        "Now that we have a map we might as well split this data into training and testing sets. We will have 80% of the data be training and 20% of the data be for testing. Later we will include a validation set. So it will be 80:10:10 train:valid:test. \n",
        "\n",
        "It seems that what I am trying to predict is the qmed data from the rest of the data. I will now go ahead and attempt to do so."
      ],
      "metadata": {
        "id": "sIwW5uoRMRym"
      }
    },
    {
      "cell_type": "code",
      "source": [
        "X = RiverFlowDataSet[['catchment-area', 'station-level', 'sensitivity', 'minimum-altitude', 'maximum-altitude', 'gdf-mean-flow', 'gdf-max-flow', 'mean-flood-plain-extent']].fillna(0)\n",
        "y = RiverFlowDataSet['qmed'].fillna(0)\n",
        "train_df, test_df = train_test_split(RiverFlowDataSet, test_size = .2)\n",
        "print('the shape of the training df is:', np.shape(train_df), '\\n The shape of the test df is: ', np.shape(test_df))\n",
        "X_train = train_df[['catchment-area', 'station-level', 'sensitivity', 'minimum-altitude', 'maximum-altitude', 'gdf-mean-flow', 'gdf-max-flow', 'mean-flood-plain-extent']].fillna(0)\n",
        "X_test = test_df[['catchment-area', 'station-level', 'sensitivity', 'minimum-altitude', 'maximum-altitude', 'gdf-mean-flow', 'gdf-max-flow', 'mean-flood-plain-extent']].fillna(0)\n",
        "y_train = train_df['qmed'].fillna(0)\n",
        "y_test = test_df['qmed'].fillna(0)\n",
        "\n",
        "print('shape of X_train, X_test, y_train, y_test respectively: ', np.shape(X_train), np.shape(X_test), np.shape(y_train), np.shape(y_test))"
      ],
      "metadata": {
        "colab": {
          "base_uri": "https://localhost:8080/"
        },
        "id": "zdgS6LSvPTai",
        "outputId": "c304a80d-52a1-49d0-8627-dfdd4f4460f7"
      },
      "execution_count": 109,
      "outputs": [
        {
          "output_type": "stream",
          "name": "stdout",
          "text": [
            "the shape of the training df is: (1281, 103) \n",
            " The shape of the test df is:  (321, 103)\n",
            "shape of X_train, X_test, y_train, y_test respectively:  (1281, 8) (321, 8) (1281,) (321,)\n"
          ]
        }
      ]
    },
    {
      "cell_type": "code",
      "source": [
        "X_simple = X.iloc[:10,:3]\n",
        "print(X_simple)\n",
        "for column in X_simple.columns:\n",
        "  print('the mean of this column is:', np.mean(X_simple[column]))\n",
        "  print('the var of this column is:', np.var(X_simple[column]))\n",
        "plt.plot(range(150), X['catchment-area'][:150])\n",
        "plt.title('catchment area metric')\n",
        "plt.show()\n",
        "plt.plot(range(150), X['station-level'][:150])\n",
        "plt.title('station level metric')\n",
        "plt.show()"
      ],
      "metadata": {
        "colab": {
          "base_uri": "https://localhost:8080/",
          "height": 840
        },
        "id": "Nl2fv2EjTwPT",
        "outputId": "9861880f-bbb2-44f6-c6b9-2506ac9ab68b"
      },
      "execution_count": 110,
      "outputs": [
        {
          "output_type": "stream",
          "name": "stdout",
          "text": [
            "   catchment-area  station-level  sensitivity\n",
            "0          161.90           13.0         20.0\n",
            "1          551.40           17.0          9.1\n",
            "2          434.40            9.0         11.0\n",
            "3          494.60           81.7          5.7\n",
            "4          241.10           70.7         14.0\n",
            "5          330.70           15.6         14.0\n",
            "6          187.50            3.3          6.0\n",
            "7          575.00            4.3          7.0\n",
            "8           44.34          154.3          0.0\n",
            "9          961.80           10.0          6.0\n",
            "the mean of this column is: 398.274\n",
            "the var of this column is: 63766.25248399998\n",
            "the mean of this column is: 37.89\n",
            "the var of this column is: 2203.7089000000005\n",
            "the mean of this column is: 9.28\n",
            "the var of this column is: 28.8116\n"
          ]
        },
        {
          "output_type": "display_data",
          "data": {
            "text/plain": [
              "<Figure size 432x288 with 1 Axes>"
            ],
            "image/png": "[encoded data removed]"
          },
          "metadata": {
            "needs_background": "light"
          }
        },
        {
          "output_type": "display_data",
          "data": {
            "text/plain": [
              "<Figure size 432x288 with 1 Axes>"
            ],
            "image/png": "[encoded data removed]"
          },
          "metadata": {
            "needs_background": "light"
          }
        }
      ]
    },
    {
      "cell_type": "code",
      "source": [
        "kfold = KFold(n_splits=6, shuffle=True, random_state=42)\n",
        "regression_model = lr.LinearRegression()\n",
        "scores = []\n",
        "for i, (train, test) in enumerate(kfold.split(X, y)):\n",
        " regression_model.fit(X.iloc[train,:], y.iloc[train])\n",
        " score = regression_model.score(X.iloc[test,:], y.iloc[test])\n",
        " scores.append(score)\n",
        "print(scores)\n"
      ],
      "metadata": {
        "colab": {
          "base_uri": "https://localhost:8080/"
        },
        "id": "_se6w8CIoboa",
        "outputId": "20e71705-0236-4b54-8254-0e1cdf703755"
      },
      "execution_count": 111,
      "outputs": [
        {
          "output_type": "stream",
          "name": "stdout",
          "text": [
            "[0.780262378002883, 0.737414119798312, 0.6472639504005682, 0.2884873954113897, 0.6255870589236391, 0.7552949127538588]\n"
          ]
        }
      ]
    },
    {
      "cell_type": "code",
      "source": [
        "\n",
        "regression_model.fit(X_train, y_train)\n",
        "print('the coefficients are: ', regression_model.coef_)\n",
        "print('the intercept is: ', regression_model.intercept_)\n",
        "predicted_qmed = regression_model.predict(X_test)\n",
        "print('the score for the regression model is: ',regression_model.score(X_test, y_test))\n",
        "plt.scatter(predicted_qmed, y_test)"
      ],
      "metadata": {
        "colab": {
          "base_uri": "https://localhost:8080/",
          "height": 352
        },
        "id": "SKfAFyo3Ks1n",
        "outputId": "c6dd55bb-82f9-43b3-9b01-fa6a7ce36a1b"
      },
      "execution_count": 112,
      "outputs": [
        {
          "output_type": "stream",
          "name": "stdout",
          "text": [
            "the coefficients are:  [-1.05663598e-02 -2.10262688e-02 -3.25595747e-02 -3.51167457e-03\n",
            "  3.22434001e-03 -1.18758806e+00  5.52953756e-01 -6.80668383e+01]\n",
            "the intercept is:  8.225238197559356\n",
            "the score for the regression model is:  0.7051618406858227\n"
          ]
        },
        {
          "output_type": "execute_result",
          "data": {
            "text/plain": [
              "<matplotlib.collections.PathCollection at 0x7f39ab7137c0>"
            ]
          },
          "metadata": {},
          "execution_count": 112
        },
        {
          "output_type": "display_data",
          "data": {
            "text/plain": [
              "<Figure size 432x288 with 1 Axes>"
            ],
            "image/png": "[encoded data removed]"
          },
          "metadata": {
            "needs_background": "light"
          }
        }
      ]
    },
    {
      "cell_type": "code",
      "source": [
        "# from google.colab import files\n",
        "# uploaded = files.upload()"
      ],
      "metadata": {
        "id": "UXBwgGoSdw65"
      },
      "execution_count": 113,
      "outputs": []
    },
    {
      "cell_type": "markdown",
      "source": [
        "Ok so I dont really think that the AMAX is that useful, but I do have the peak flow data. This could be useful. Right now it is stored under the filepath\n",
        " \"C:\\Users\\tyler\\Desktop\\For Oxford research\\csv files\"\n",
        "\n",
        " Then I will have the data that about max flow and is suitable for qmed (aka within 30% of real qmed). So the next step is to incorporate the two main datasets, that will be RiverFlowDataset and the max flows for each river. \n",
        "\n",
        " The tricky part is that the max flows does daily readings, so I will likely have to expand the RiverFlowDataset or figure out how to run algorithms on both data sets simultaneously. I was thinking that if I have the trianing data, for each river, it can check if it has associated peak flow data and then absorb that knowledge. This will be hard to do, I will have to do further research/trial and error to figure this part out."
      ],
      "metadata": {
        "id": "qxP-T-HoFnsb"
      }
    },
    {
      "cell_type": "markdown",
      "source": [
        "Alright, so if we look at the cell below, we see some valuable things. We can go into the files in dir which is all the csv files of max flow data for each river station that its available. Then we can get the unique id for each station by writing the final two lines below. The thing that I am struggling with now is how I should combine the data sets. Maybe I can make a database, with all the id's and their coresponding data. Lets think a bit and see what we can do."
      ],
      "metadata": {
        "id": "vaCWD4aQUtZG"
      }
    },
    {
      "cell_type": "code",
      "source": [
        "dir = '/content/drive/My Drive/csv files'\n",
        "print('in the csv files folder, there are', len(os.listdir(dir)), 'files that are of use')\n",
        "pd.read_csv('/content/drive/My Drive/csv files/004005.csv', skiprows = 2)\n",
        "# pd.read_csv('/content/drive/My Drive/csv files/004005.csv', error_bad_lines = False)\n",
        "# pd.read_csv('/content/drive/My Drive/csv files/004005.csv', nrows = 1).columns\n",
        "name = pd.read_csv('/content/drive/My Drive/csv files/004005.csv', nrows = 1)\n",
        "#name['Meig at Glenmeanie']"
      ],
      "metadata": {
        "colab": {
          "base_uri": "https://localhost:8080/"
        },
        "id": "xdV-E0ctIcTO",
        "outputId": "281b52f5-0a18-431a-d1f9-184986aeff89"
      },
      "execution_count": 114,
      "outputs": [
        {
          "output_type": "stream",
          "name": "stdout",
          "text": [
            "in the csv files folder, there are 306 files that are of use\n"
          ]
        }
      ]
    },
    {
      "cell_type": "code",
      "source": [
        "def pullFile(fileNum):\n",
        "  #fileNum += '.csv'\n",
        "  filed = '/content/drive/My Drive/csv files/'\n",
        "  filed += fileNum\n",
        "  return pd.read_csv(filed, skiprows = 2)"
      ],
      "metadata": {
        "id": "zkxgxlmMQFU5"
      },
      "execution_count": 115,
      "outputs": []
    },
    {
      "cell_type": "code",
      "source": [
        "id004005 = pullFile('004005.csv')\n",
        "print(id004005.head(5))\n",
        "threeaRating = id004005[id004005['RATING'] == '3a']\n",
        "plt.plot(threeaRating['FLOW (m^3/s)'])\n",
        "np.mean(threeaRating['FLOW (m^3/s)'])"
      ],
      "metadata": {
        "colab": {
          "base_uri": "https://localhost:8080/",
          "height": 508
        },
        "id": "dglPFgrkf3T0",
        "outputId": "51925ed9-e13b-4afc-faa8-e7f7b6b0dcab"
      },
      "execution_count": 128,
      "outputs": [
        {
          "output_type": "stream",
          "name": "stdout",
          "text": [
            "               DATE  STAGE (m)  FLOW (m^3/s) RATING           SOURCE  COMMENT  \\\n",
            "0  10/01/1986 08:30      1.413         53.67     1a  Digital Archive      NaN   \n",
            "1  13/01/1986 14:30      1.680         83.07     1a  Digital Archive      NaN   \n",
            "2  14/01/1986 16:00      1.523         64.81     1a  Digital Archive      NaN   \n",
            "3  20/01/1986 17:30      1.560         68.86     1a  Digital Archive      NaN   \n",
            "4  04/03/1986 23:00      1.565         69.42     1a  Digital Archive      NaN   \n",
            "\n",
            "   AMAX ONLY  \n",
            "0        NaN  \n",
            "1        NaN  \n",
            "2        NaN  \n",
            "3        NaN  \n",
            "4        NaN  \n"
          ]
        },
        {
          "output_type": "execute_result",
          "data": {
            "text/plain": [
              "62.26741666666667"
            ]
          },
          "metadata": {},
          "execution_count": 128
        },
        {
          "output_type": "display_data",
          "data": {
            "text/plain": [
              "<Figure size 432x288 with 1 Axes>"
            ],
            "image/png": "[encoded data removed]"
          },
          "metadata": {
            "needs_background": "light"
          }
        }
      ]
    },
    {
      "cell_type": "code",
      "source": [
        "twoaRating = id004005[id004005['RATING'] == '2a']\n",
        "plt.plot(twoaRating['FLOW (m^3/s)'])\n",
        "np.mean(twoaRating['FLOW (m^3/s)'])"
      ],
      "metadata": {
        "colab": {
          "base_uri": "https://localhost:8080/",
          "height": 282
        },
        "id": "mGkEyNjzf8u1",
        "outputId": "0f83d723-2748-4c30-abae-8c70d61e30cb"
      },
      "execution_count": 125,
      "outputs": [
        {
          "output_type": "execute_result",
          "data": {
            "text/plain": [
              "78.33379310344826"
            ]
          },
          "metadata": {},
          "execution_count": 125
        },
        {
          "output_type": "display_data",
          "data": {
            "text/plain": [
              "<Figure size 432x288 with 1 Axes>"
            ],
            "image/png": "[encoded data removed]"
          },
          "metadata": {
            "needs_background": "light"
          }
        }
      ]
    },
    {
      "cell_type": "code",
      "source": [
        "oneaRating = id004005[id004005['RATING'] == '1a']\n",
        "plt.plot(oneaRating['FLOW (m^3/s)'])\n",
        "np.mean(oneaRating['FLOW (m^3/s)'])"
      ],
      "metadata": {
        "colab": {
          "base_uri": "https://localhost:8080/",
          "height": 282
        },
        "id": "qYd7kMcQhQLN",
        "outputId": "b99031cc-df28-4d0d-e894-54e831f5ce3a"
      },
      "execution_count": 126,
      "outputs": [
        {
          "output_type": "execute_result",
          "data": {
            "text/plain": [
              "74.11209677419356"
            ]
          },
          "metadata": {},
          "execution_count": 126
        },
        {
          "output_type": "display_data",
          "data": {
            "text/plain": [
              "<Figure size 432x288 with 1 Axes>"
            ],
            "image/png": "[encoded data removed]"
          },
          "metadata": {
            "needs_background": "light"
          }
        }
      ]
    },
    {
      "cell_type": "code",
      "source": [
        "PeakFlowDict = {}\n",
        "for fileNum in os.listdir(dir):\n",
        "  PeakFlowDict[fileNum] = pullFile(fileNum)"
      ],
      "metadata": {
        "id": "v22_PJLejcwP"
      },
      "execution_count": 129,
      "outputs": []
    },
    {
      "cell_type": "code",
      "source": [
        "PeakFlowDict['004003.csv'].head(5)"
      ],
      "metadata": {
        "colab": {
          "base_uri": "https://localhost:8080/",
          "height": 206
        },
        "id": "ES_o_C_erT7J",
        "outputId": "84dc929e-c707-420f-ca6e-b78f168f7b1b"
      },
      "execution_count": 130,
      "outputs": [
        {
          "output_type": "execute_result",
          "data": {
            "text/plain": [
              "               DATE  STAGE (m)  FLOW (m^3/s)      RATING           SOURCE  \\\n",
              "0  12/11/1973 09:45      1.538         53.25  QHigh19731  Digital Archive   \n",
              "1  18/11/1973 17:45      1.739         73.29  QHigh19731  Digital Archive   \n",
              "2  24/11/1973 03:45      1.451         45.65  QHigh19731  Digital Archive   \n",
              "3  27/12/1973 15:15      1.816         81.90  QHigh19731  Digital Archive   \n",
              "4  18/01/1974 21:45      1.577         56.87  QHigh19731  Digital Archive   \n",
              "\n",
              "   COMMENT  AMAX ONLY  \n",
              "0      NaN        NaN  \n",
              "1      NaN        NaN  \n",
              "2      NaN        NaN  \n",
              "3      NaN        NaN  \n",
              "4      NaN        NaN  "
            ],
            "text/html": [
              "\n",
              "  <div id=\"df-09c19b3e-0ebf-493b-84fc-c27573b0adb2\">\n",
              "    <div class=\"colab-df-container\">\n",
              "      <div>\n",
              "<style scoped>\n",
              "    .dataframe tbody tr th:only-of-type {\n",
              "        vertical-align: middle;\n",
              "    }\n",
              "\n",
              "    .dataframe tbody tr th {\n",
              "        vertical-align: top;\n",
              "    }\n",
              "\n",
              "    .dataframe thead th {\n",
              "        text-align: right;\n",
              "    }\n",
              "</style>\n",
              "<table border=\"1\" class=\"dataframe\">\n",
              "  <thead>\n",
              "    <tr style=\"text-align: right;\">\n",
              "      <th></th>\n",
              "      <th>DATE</th>\n",
              "      <th>STAGE (m)</th>\n",
              "      <th>FLOW (m^3/s)</th>\n",
              "      <th>RATING</th>\n",
              "      <th>SOURCE</th>\n",
              "      <th>COMMENT</th>\n",
              "      <th>AMAX ONLY</th>\n",
              "    </tr>\n",
              "  </thead>\n",
              "  <tbody>\n",
              "    <tr>\n",
              "      <th>0</th>\n",
              "      <td>12/11/1973 09:45</td>\n",
              "      <td>1.538</td>\n",
              "      <td>53.25</td>\n",
              "      <td>QHigh19731</td>\n",
              "      <td>Digital Archive</td>\n",
              "      <td>NaN</td>\n",
              "      <td>NaN</td>\n",
              "    </tr>\n",
              "    <tr>\n",
              "      <th>1</th>\n",
              "      <td>18/11/1973 17:45</td>\n",
              "      <td>1.739</td>\n",
              "      <td>73.29</td>\n",
              "      <td>QHigh19731</td>\n",
              "      <td>Digital Archive</td>\n",
              "      <td>NaN</td>\n",
              "      <td>NaN</td>\n",
              "    </tr>\n",
              "    <tr>\n",
              "      <th>2</th>\n",
              "      <td>24/11/1973 03:45</td>\n",
              "      <td>1.451</td>\n",
              "      <td>45.65</td>\n",
              "      <td>QHigh19731</td>\n",
              "      <td>Digital Archive</td>\n",
              "      <td>NaN</td>\n",
              "      <td>NaN</td>\n",
              "    </tr>\n",
              "    <tr>\n",
              "      <th>3</th>\n",
              "      <td>27/12/1973 15:15</td>\n",
              "      <td>1.816</td>\n",
              "      <td>81.90</td>\n",
              "      <td>QHigh19731</td>\n",
              "      <td>Digital Archive</td>\n",
              "      <td>NaN</td>\n",
              "      <td>NaN</td>\n",
              "    </tr>\n",
              "    <tr>\n",
              "      <th>4</th>\n",
              "      <td>18/01/1974 21:45</td>\n",
              "      <td>1.577</td>\n",
              "      <td>56.87</td>\n",
              "      <td>QHigh19731</td>\n",
              "      <td>Digital Archive</td>\n",
              "      <td>NaN</td>\n",
              "      <td>NaN</td>\n",
              "    </tr>\n",
              "  </tbody>\n",
              "</table>\n",
              "</div>\n",
              "      <button class=\"colab-df-convert\" onclick=\"convertToInteractive('df-09c19b3e-0ebf-493b-84fc-c27573b0adb2')\"\n",
              "              title=\"Convert this dataframe to an interactive table.\"\n",
              "              style=\"display:none;\">\n",
              "        \n",
              "  <svg xmlns=\"http://www.w3.org/2000/svg\" height=\"24px\"viewBox=\"0 0 24 24\"\n",
              "       width=\"24px\">\n",
              "    <path d=\"M0 0h24v24H0V0z\" fill=\"none\"/>\n",
              "    <path d=\"M18.56 5.44l.94 2.06.94-2.06 2.06-.94-2.06-.94-.94-2.06-.94 2.06-2.06.94zm-11 1L8.5 8.5l.94-2.06 2.06-.94-2.06-.94L8.5 2.5l-.94 2.06-2.06.94zm10 10l.94 2.06.94-2.06 2.06-.94-2.06-.94-.94-2.06-.94 2.06-2.06.94z\"/><path d=\"M17.41 7.96l-1.37-1.37c-.4-.4-.92-.59-1.43-.59-.52 0-1.04.2-1.43.59L10.3 9.45l-7.72 7.72c-.78.78-.78 2.05 0 2.83L4 21.41c.39.39.9.59 1.41.59.51 0 1.02-.2 1.41-.59l7.78-7.78 2.81-2.81c.8-.78.8-2.07 0-2.86zM5.41 20L4 18.59l7.72-7.72 1.47 1.35L5.41 20z\"/>\n",
              "  </svg>\n",
              "      </button>\n",
              "      \n",
              "  <style>\n",
              "    .colab-df-container {\n",
              "      display:flex;\n",
              "      flex-wrap:wrap;\n",
              "      gap: 12px;\n",
              "    }\n",
              "\n",
              "    .colab-df-convert {\n",
              "      background-color: #E8F0FE;\n",
              "      border: none;\n",
              "      border-radius: 50%;\n",
              "      cursor: pointer;\n",
              "      display: none;\n",
              "      fill: #1967D2;\n",
              "      height: 32px;\n",
              "      padding: 0 0 0 0;\n",
              "      width: 32px;\n",
              "    }\n",
              "\n",
              "    .colab-df-convert:hover {\n",
              "      background-color: #E2EBFA;\n",
              "      box-shadow: 0px 1px 2px rgba(60, 64, 67, 0.3), 0px 1px 3px 1px rgba(60, 64, 67, 0.15);\n",
              "      fill: #174EA6;\n",
              "    }\n",
              "\n",
              "    [theme=dark] .colab-df-convert {\n",
              "      background-color: #3B4455;\n",
              "      fill: #D2E3FC;\n",
              "    }\n",
              "\n",
              "    [theme=dark] .colab-df-convert:hover {\n",
              "      background-color: #434B5C;\n",
              "      box-shadow: 0px 1px 3px 1px rgba(0, 0, 0, 0.15);\n",
              "      filter: drop-shadow(0px 1px 2px rgba(0, 0, 0, 0.3));\n",
              "      fill: #FFFFFF;\n",
              "    }\n",
              "  </style>\n",
              "\n",
              "      <script>\n",
              "        const buttonEl =\n",
              "          document.querySelector('#df-09c19b3e-0ebf-493b-84fc-c27573b0adb2 button.colab-df-convert');\n",
              "        buttonEl.style.display =\n",
              "          google.colab.kernel.accessAllowed ? 'block' : 'none';\n",
              "\n",
              "        async function convertToInteractive(key) {\n",
              "          const element = document.querySelector('#df-09c19b3e-0ebf-493b-84fc-c27573b0adb2');\n",
              "          const dataTable =\n",
              "            await google.colab.kernel.invokeFunction('convertToInteractive',\n",
              "                                                     [key], {});\n",
              "          if (!dataTable) return;\n",
              "\n",
              "          const docLinkHtml = 'Like what you see? Visit the ' +\n",
              "            '<a target=\"_blank\" href=https://colab.research.google.com/notebooks/data_table.ipynb>data table notebook</a>'\n",
              "            + ' to learn more about interactive tables.';\n",
              "          element.innerHTML = '';\n",
              "          dataTable['output_type'] = 'display_data';\n",
              "          await google.colab.output.renderOutput(dataTable, element);\n",
              "          const docLink = document.createElement('div');\n",
              "          docLink.innerHTML = docLinkHtml;\n",
              "          element.appendChild(docLink);\n",
              "        }\n",
              "      </script>\n",
              "    </div>\n",
              "  </div>\n",
              "  "
            ]
          },
          "metadata": {},
          "execution_count": 130
        }
      ]
    },
    {
      "cell_type": "markdown",
      "source": [
        "Lets Try this over again."
      ],
      "metadata": {
        "id": "OQ3VWQQqalvT"
      }
    },
    {
      "cell_type": "code",
      "source": [
        "smaller_dataset = RiverFlowDataSet.iloc[:10].append(RiverFlowDataSet.iloc[520:530])\n",
        "medium_dataset = RiverFlowDataSet.iloc[:10].append(RiverFlowDataSet.iloc[520:530]).append(RiverFlowDataSet.iloc[100:131])"
      ],
      "metadata": {
        "id": "hQTPoIPxaopQ"
      },
      "execution_count": 5,
      "outputs": []
    },
    {
      "cell_type": "code",
      "source": [
        "def get_long_lat(df):\n",
        "  return [df['longitude'], df['latitude']]\n",
        "long_lat = get_long_lat(smaller_dataset)\n",
        "plt.scatter(long_lat[1], long_lat[0])\n",
        "X_simple = smaller_dataset[['longitude', 'latitude']]"
      ],
      "metadata": {
        "colab": {
          "base_uri": "https://localhost:8080/",
          "height": 265
        },
        "id": "bc8blIEsasGK",
        "outputId": "41470a8b-1c25-4af1-a4cf-951a8aa3040c"
      },
      "execution_count": 6,
      "outputs": [
        {
          "output_type": "display_data",
          "data": {
            "text/plain": [
              "<Figure size 432x288 with 1 Axes>"
            ],
            "image/png": "[encoded data removed]"
          },
          "metadata": {
            "needs_background": "light"
          }
        }
      ]
    },
    {
      "cell_type": "code",
      "source": [
        "#this will construct a DBSCAN model and cluster it as well as print out a list of the associated labels and make a plot showing the clusters\n",
        "def DBSCANclustering(df, eps):\n",
        "  values_to_cluster = df[['longitude', 'latitude']]\n",
        "  clustering = DBSCAN(eps=eps, min_samples=5).fit(values_to_cluster)\n",
        "  labels = clustering.labels_\n",
        "  df['cluster label'] = labels\n",
        "  plt.scatter(df['latitude'], df['longitude'], c = labels)\n",
        "  plt.show()\n",
        "  return labels\n",
        "\n",
        "#this will construct a Kmeans model and cluster it as well as print out a list of the associated labels and make a plot showing the clusters\n",
        "def KMeansClustering(df, numClusters):\n",
        "  values_to_cluster = df[['longitude', 'latitude']]\n",
        "  kmeans = KMeans(n_clusters=numClusters, random_state=0).fit(values_to_cluster)\n",
        "  labels = kmeans.labels_\n",
        "  df['cluster label'] = labels\n",
        "  centers = kmeans.cluster_centers_\n",
        "    # Draw white circles at cluster centers\n",
        "  plt.scatter(\n",
        "        centers[:, 1],\n",
        "        centers[:, 0],\n",
        "        marker=\"o\",\n",
        "        c=\"white\",\n",
        "        alpha=1,\n",
        "        s=200,\n",
        "        edgecolor=\"k\",\n",
        "    )\n",
        "\n",
        "  plt.scatter(df['latitude'], df['longitude'], c = labels)\n",
        "  plt.show()\n",
        "  return labels\n",
        "\n",
        "#This will give the unique labels associated with the model.\n",
        "def get_unique_labels(labels):\n",
        "  return np.unique(labels)\n",
        "def minimize_df(df):\n",
        "  return df[['latitude', 'longitude', 'catchment-area', 'station-level','minimum-altitude', 'maximum-altitude', 'gdf-mean-flow', 'gdf-max-flow', 'mean-flood-plain-extent', 'qmed', 'cluster label', 'id']]\n",
        "\n",
        "def create_cluster_size_array(numClusters, labels):\n",
        "  num_in_clusters = [0]*numClusters\n",
        "  for cluster in labels:\n",
        "    num_in_clusters[cluster] += 1\n",
        "  return num_in_clusters\n",
        "# clustering = DBSCAN(eps=3, min_samples=2).fit(X_simple)\n",
        "# labels = clustering.labels_\n",
        "# plt.scatter(smaller_dataset['latitude'], smaller_dataset['longitude'], c = clustering.labels_)\n",
        "# plt.show()\n",
        "# smaller_dataset['cluster label'] = labels\n",
        "# smallest_dataset = smaller_dataset[['latitude', 'longitude', 'cluster label']]\n",
        "# smallest_dataset"
      ],
      "metadata": {
        "id": "PSURhfkibD2w"
      },
      "execution_count": 64,
      "outputs": []
    },
    {
      "cell_type": "code",
      "source": [
        "from IPython.utils.text import num_ini_spaces\n",
        "\n",
        "#cluster_array_sizes = create_cluster_size_array(2, labels)\n",
        "#print(cluster_array_sizes)\n",
        "\n",
        "def size_of_testing_for_clusters(cluster_size_array):\n",
        "  return [np.floor(x*.5) for x in cluster_size_array]\n",
        "#print(size_of_testing_for_clusters(cluster_array_sizes))"
      ],
      "metadata": {
        "id": "rtMGfhP1htYu"
      },
      "execution_count": 58,
      "outputs": []
    },
    {
      "cell_type": "code",
      "source": [
        "values_to_cluster = smaller_dataset[['longitude', 'latitude']]\n",
        "kmeans = KMeans(n_clusters=2, random_state=0).fit(values_to_cluster)\n",
        "labels = kmeans.labels_\n",
        "labels"
      ],
      "metadata": {
        "colab": {
          "base_uri": "https://localhost:8080/"
        },
        "id": "qtTpXOnkimn_",
        "outputId": "1fc4b1d6-1e85-4fa4-a90a-ce7e05fe9a47"
      },
      "execution_count": 59,
      "outputs": [
        {
          "output_type": "execute_result",
          "data": {
            "text/plain": [
              "array([1, 1, 1, 1, 1, 1, 1, 1, 1, 1, 0, 0, 0, 0, 0, 0, 0, 0, 0, 0],\n",
              "      dtype=int32)"
            ]
          },
          "metadata": {},
          "execution_count": 59
        }
      ]
    },
    {
      "cell_type": "code",
      "source": [
        "KMeansClustering(smaller_dataset, 2)"
      ],
      "metadata": {
        "colab": {
          "base_uri": "https://localhost:8080/",
          "height": 334
        },
        "id": "PWUJ9KkK0PkJ",
        "outputId": "5ef31c29-434c-425a-de25-d98797a739ed"
      },
      "execution_count": 60,
      "outputs": [
        {
          "output_type": "stream",
          "name": "stdout",
          "text": [
            "[[-0.70782  52.351153]\n",
            " [-4.289098 58.003519]]\n"
          ]
        },
        {
          "output_type": "display_data",
          "data": {
            "text/plain": [
              "<Figure size 432x288 with 1 Axes>"
            ],
            "image/png": "[encoded data removed]"
          },
          "metadata": {
            "needs_background": "light"
          }
        },
        {
          "output_type": "execute_result",
          "data": {
            "text/plain": [
              "array([1, 1, 1, 1, 1, 1, 1, 1, 1, 1, 0, 0, 0, 0, 0, 0, 0, 0, 0, 0],\n",
              "      dtype=int32)"
            ]
          },
          "metadata": {},
          "execution_count": 60
        }
      ]
    },
    {
      "cell_type": "code",
      "source": [
        "KMeansClustering(medium_dataset, 3)\n",
        "DBSCANclustering(medium_dataset, .8)"
      ],
      "metadata": {
        "colab": {
          "base_uri": "https://localhost:8080/",
          "height": 565
        },
        "id": "lc7jxRs5aOOp",
        "outputId": "396921f7-ae86-4345-83ce-cbd4e0f80c07"
      },
      "execution_count": 65,
      "outputs": [
        {
          "output_type": "display_data",
          "data": {
            "text/plain": [
              "<Figure size 432x288 with 1 Axes>"
            ],
            "image/png": "[encoded data removed]"
          },
          "metadata": {
            "needs_background": "light"
          }
        },
        {
          "output_type": "display_data",
          "data": {
            "text/plain": [
              "<Figure size 432x288 with 1 Axes>"
            ],
            "image/png": "[encoded data removed]"
          },
          "metadata": {
            "needs_background": "light"
          }
        },
        {
          "output_type": "execute_result",
          "data": {
            "text/plain": [
              "array([0, 0, 0, 0, 0, 0, 0, 0, 0, 0, 1, 1, 1, 1, 1, 1, 1, 1, 1, 1, 2, 2,\n",
              "       2, 2, 2, 2, 2, 2, 2, 2, 2, 2, 2, 2, 2, 2, 2, 2, 2, 2, 2, 2, 2, 2,\n",
              "       2, 2, 2, 2, 2, 2, 2])"
            ]
          },
          "metadata": {},
          "execution_count": 65
        }
      ]
    },
    {
      "cell_type": "code",
      "source": [
        "minimized_medium_dataset = minimize_df(medium_dataset)\n",
        "minimized_medium_dataset.head(7)"
      ],
      "metadata": {
        "id": "ffecWFWGdt6l",
        "colab": {
          "base_uri": "https://localhost:8080/"
        },
        "outputId": "d91a0d60-8c47-4579-f1d5-883004028cb0"
      },
      "execution_count": 26,
      "outputs": [
        {
          "output_type": "stream",
          "name": "stdout",
          "text": [
            "20\n"
          ]
        }
      ]
    },
    {
      "cell_type": "code",
      "source": [
        "#The next step will be to get an optimization system to find the optimal amount of clusters.\n",
        "from sklearn.metrics.cluster import silhouette_score\n",
        "def find_optimal_clustering(df):\n",
        "  values_to_cluster = df[['longitude', 'latitude']]\n",
        "  silhouette_scores = []\n",
        "  inertia_scores = []\n",
        "  k = range(2, int(np.floor(len(df)/2)))\n",
        "  for num_clusters in k:\n",
        "    kmeans = KMeans(n_clusters=num_clusters, random_state=0).fit(values_to_cluster)\n",
        "    cluster_labels = kmeans.labels_\n",
        "    inertia_scores.append(kmeans.inertia_)\n",
        "    silhouette_scores.append(silhouette_score(values_to_cluster, cluster_labels))\n",
        "  plt.plot(k, silhouette_scores, 'bx-')\n",
        "  plt.show()\n",
        "  plt.plot(k, inertia_scores, 'bx-')\n",
        "  plt.show()\n",
        "  return k[np.argmax(silhouette_scores)]"
      ],
      "metadata": {
        "id": "Fpo4OJOIKteZ"
      },
      "execution_count": 98,
      "outputs": []
    },
    {
      "cell_type": "code",
      "source": [
        "find_optimal_clustering(smaller_dataset)"
      ],
      "metadata": {
        "id": "3iz-XHr2ZLrL",
        "outputId": "88e6b47a-c1fb-4da4-fbcc-bbb8c5dcb591",
        "colab": {
          "base_uri": "https://localhost:8080/",
          "height": 530
        }
      },
      "execution_count": 99,
      "outputs": [
        {
          "output_type": "display_data",
          "data": {
            "text/plain": [
              "<Figure size 432x288 with 1 Axes>"
            ],
            "image/png": "[encoded data removed]"
          },
          "metadata": {
            "needs_background": "light"
          }
        },
        {
          "output_type": "display_data",
          "data": {
            "text/plain": [
              "<Figure size 432x288 with 1 Axes>"
            ],
            "image/png": "[encoded data removed]"
          },
          "metadata": {
            "needs_background": "light"
          }
        },
        {
          "output_type": "execute_result",
          "data": {
            "text/plain": [
              "2"
            ]
          },
          "metadata": {},
          "execution_count": 99
        }
      ]
    },
    {
      "cell_type": "code",
      "source": [
        "find_optimal_clustering(medium_dataset)\n",
        "print('while our silouhette approach seems to be stating that two is the optimal amount for the cluster, we can see from the kmeans.inertia_ metric(elbow method) that 3 appears to be the best for number of clusters. This means that we will have to be careful and double check these')"
      ],
      "metadata": {
        "id": "1hX1lnVRfC_o",
        "outputId": "72ab4fd9-470d-4dec-8cfd-10606e4432da",
        "colab": {
          "base_uri": "https://localhost:8080/",
          "height": 531
        }
      },
      "execution_count": 101,
      "outputs": [
        {
          "output_type": "display_data",
          "data": {
            "text/plain": [
              "<Figure size 432x288 with 1 Axes>"
            ],
            "image/png": "[encoded data removed]"
          },
          "metadata": {
            "needs_background": "light"
          }
        },
        {
          "output_type": "display_data",
          "data": {
            "text/plain": [
              "<Figure size 432x288 with 1 Axes>"
            ],
            "image/png": "[encoded data removed]"
          },
          "metadata": {
            "needs_background": "light"
          }
        },
        {
          "output_type": "stream",
          "name": "stdout",
          "text": [
            "while our silouhette approach seems to be stating that two is the optimal amount for the cluster, we can see from the kmeans.inertia_ metric(elbow method) that 3 appears to be the best for number of clusters. This means that we will have to be careful and double check these\n"
          ]
        }
      ]
    },
    {
      "cell_type": "markdown",
      "source": [
        "Now I have a clustering algorithm. What I will try to do now is to take the respective clusters from my \"medium dataset\" which has 3 clusters and train a model on the limited data I have with respect to these. \n",
        "\n",
        "The most important thing is to understand what this QMED metric is and how I will work to model it with respect to my other data."
      ],
      "metadata": {
        "id": "qXwWVaWAkdDM"
      }
    },
    {
      "cell_type": "code",
      "source": [],
      "metadata": {
        "id": "9GpqPPCblAck"
      },
      "execution_count": null,
      "outputs": []
    }
  ]
}